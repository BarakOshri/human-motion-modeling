{
 "metadata": {
  "name": "",
  "signature": "sha256:f19b11073d4d2b1803d8e016f0cb5df042b052de083ab727be39bac2234f4904"
 },
 "nbformat": 3,
 "nbformat_minor": 0,
 "worksheets": [
  {
   "cells": [
    {
     "cell_type": "code",
     "collapsed": false,
     "input": [
      "%pylab inline\n",
      "\n",
      "import sys\n",
      "sys.path.append('/deep/u/kuanfang/human-motion-modeling');\n",
      "from time import clock\n",
      "import numpy as np\n",
      "\n",
      "from util.cornell_utils import *\n",
      "from util.plot import *\n",
      "from util.mocap_utils import *\n",
      "\n",
      "\n",
      "from util.space import *\n",
      "\n",
      "from model.crbm import *\n",
      "from util.cornell_utils import *\n",
      "import util.my_logging\n",
      "from util.mocap_utils import *"
     ],
     "language": "python",
     "metadata": {},
     "outputs": [
      {
       "output_type": "stream",
       "stream": "stdout",
       "text": [
        "Populating the interactive namespace from numpy and matplotlib\n"
       ]
      }
     ],
     "prompt_number": 1
    },
    {
     "cell_type": "code",
     "collapsed": false,
     "input": [
      "path_dataset = '../../data/cornell/'\n",
      "index = np.load(os.path.join(path_dataset, 'index.npy'))\n",
      "\n",
      "data_abs = np.load(os.path.join(path_dataset, 'data_relpos.npy'))\n",
      "inits, data, index = abs2inc_forall(data_abs, index)\n",
      "mean = np.mean(data, axis=0)\n",
      "std = np.std(data, axis=0)\n",
      "data_ = (data - mean) / std\n",
      "\n",
      "data1 = data_ * std + mean\n",
      "data2, index = inc2abs_forall(inits, data1, index)\n",
      "\n",
      "print data.shape\n",
      "print data_.shape\n",
      "print data1.shape\n",
      "print data2.shape \n",
      "\n",
      "print np.mean((data2 - data_abs)**2)"
     ],
     "language": "python",
     "metadata": {},
     "outputs": [
      {
       "output_type": "stream",
       "stream": "stdout",
       "text": [
        "data_inc.shape = (2429, 48)\n",
        "inits.shape = (74, 48)\n",
        "(2429, 48)\n",
        "(2429, 48)\n",
        "(2429, 48)\n",
        "(2503, 48)\n",
        "2.1055793665e-12\n"
       ]
      }
     ],
     "prompt_number": 5
    },
    {
     "cell_type": "code",
     "collapsed": false,
     "input": [
      "print mean \n",
      "print std\n",
      "\n",
      "print np.max(data, axis=0)\n",
      "print np.min(data, axis=0)"
     ],
     "language": "python",
     "metadata": {},
     "outputs": []
    }
   ],
   "metadata": {}
  }
 ]
}